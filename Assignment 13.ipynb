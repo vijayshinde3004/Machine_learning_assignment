{
 "cells": [
  {
   "cell_type": "markdown",
   "id": "13303e04",
   "metadata": {},
   "source": [
    "# Assignment 13"
   ]
  },
  {
   "cell_type": "markdown",
   "id": "c72b049e",
   "metadata": {},
   "source": [
    "1. Provide an example of the concepts of Prior, Posterior, and Likelihood ?"
   ]
  },
  {
   "cell_type": "markdown",
   "id": "1f0d199a",
   "metadata": {},
   "source": [
    "Ans:\n",
    "Prior: Suppose we are trying to estimate the average weight of a population of adult males. Before we collect any data, our prior belief is that the average weight of this population is 175 pounds.\n",
    "\n",
    "Likelihood: We collect data from a sample of 100 males, and find that the average weight of this sample is 185 pounds. This suggests that the likelihood of the true population weight being 185 pounds is higher than the likelihood of it being 175 pounds.\n",
    "\n",
    "Posterior: After collecting data from our sample, we update our prior belief and adjust it to a posterior belief that the average weight of the population is likely closer to 185 pounds than 175"
   ]
  },
  {
   "cell_type": "markdown",
   "id": "853259a5",
   "metadata": {},
   "source": [
    "2. What role does Bayes' theorem play in the concept learning principle ?"
   ]
  },
  {
   "cell_type": "markdown",
   "id": "83465235",
   "metadata": {},
   "source": [
    "Ans:\n",
    "Bayes theorem plays an important role in the concept learning principle. It is used to calculate the probability of a concept given evidence. Specifically, it helps to calculate the probability of a concept belonging to a certain class given the evidence that it has certain properties. The probability is then used to help determine which concept is most likely to be the correct one. This helps to improve the accuracy of concept learning by helping to reduce the chances of incorrect decisions being made."
   ]
  },
  {
   "cell_type": "markdown",
   "id": "ef171b33",
   "metadata": {},
   "source": [
    "3. Offer an example of how the Nave Bayes classifier is used in real life ?"
   ]
  },
  {
   "cell_type": "markdown",
   "id": "1f4e9b7d",
   "metadata": {},
   "source": [
    "Ans:\n",
    "The Naive Bayes classifier is used in real life in many applications, such as email spam filtering, document classification, and medical diagnosis. For example, a Naive Bayes classifier could be used to classify emails as spam or legitimate. The classifier would use the presence of certain words or phrases in the email to determine whether it is spam or not. Additionally, the classifier could be used to classify documents into different categories, such as finance or health, by looking for words and phrases that are commonly associated with each category. Similarly, a Naive Bayes classifier could be used in medical diagnosis to classify a patient as having a certain disease or condition based on observed symptoms."
   ]
  },
  {
   "cell_type": "markdown",
   "id": "c89b65ba",
   "metadata": {},
   "source": [
    "4. Can the Nave Bayes classifier be used on continuous numeric data? If so, how can you go about doing it ?"
   ]
  },
  {
   "cell_type": "markdown",
   "id": "d6e9eff7",
   "metadata": {},
   "source": [
    "Ans:\n",
    "the Naive Bayes classifier can be used on continuous numeric data. To do this, you have to bin the data into discrete intervals or categories. This can be done by defining a function that takes the numeric data and assigns it to different bins. Once the data is binned, the Naive Bayes classifier can be used as usual."
   ]
  },
  {
   "cell_type": "markdown",
   "id": "12fc2e17",
   "metadata": {},
   "source": [
    "5. What are Bayesian Belief Networks, and how do they work? What are their applications? Are they capable of resolving a wide range of issues?"
   ]
  },
  {
   "cell_type": "markdown",
   "id": "ad3d0534",
   "metadata": {},
   "source": [
    "Ans:\n",
    "Bayesian Belief Networks (BBNs) are graphical models used to represent the probabilistic relationships among a set of variables. They are based on Bayes' theorem, which provides a way of calculating the probability of an event, based on prior knowledge of conditions that might be related to the event. BBNs use directed acyclic graphs to represent variables and their conditional dependencies.\n",
    "\n",
    "BBNs are used in a variety of applications, such as medical diagnosis, surveillance, and risk assessment. They can be used to model complex and uncertain scenarios, such as the spread of a virus or the outcome of a political election. BBNs can help to identify relationships between variables and can be used to make predictions about future events.\n",
    "\n",
    "BBNs are capable of resolving a wide range of issues, but it is important to note that their accuracy is dependent on the quality of the data used to create the model. BBNs can be used to solve problems in many different fields, including finance, economics, engineering, and medicine. However, it is important to remember that they are not a silver bullet, and they require careful analysis and interpretation to be effective."
   ]
  },
  {
   "cell_type": "markdown",
   "id": "f0a8671e",
   "metadata": {},
   "source": [
    "6. Passengers are checked in an airport screening system to see if there is an intruder. Let I be the random variable that indicates whether someone is an intruder I = 1) or not I = 0), and A be the variable that indicates alarm I = 0). If an intruder is detected with probability P(A = 1|I = 1) = 0.98 and a non-intruder is detected with probability P(A = 1|I = 0) = 0.001, an alarm will be triggered, implying the error factor. The likelihood of an intruder in the passenger population is P(I = 1) = 0.00001. What are the chances that an alarm would be triggered when an individual is actually an intruder ?"
   ]
  },
  {
   "cell_type": "markdown",
   "id": "ae39e74e",
   "metadata": {},
   "source": [
    "Ans:\n",
    "Given\n",
    "\n",
    "P(A = 1|I = 1) = 0.98\n",
    "\n",
    "P(A = 1|I = 0) = 0.001\n",
    "\n",
    "P(I = 1) = 0.00001\n",
    "\n",
    "P(I=1|A=1) = P(A=1|I= 1)P(I=1)/(P(A=1|I=1)P(I=1)+P(A=1|I=0)*P(T=0))\n",
    "\n",
    "Or,\n",
    "\n",
    "0.98000001/(0.98000001+0.001*(1−0.00001))\n",
    "\n",
    "which comes out as 0.0097."
   ]
  },
  {
   "cell_type": "markdown",
   "id": "cfad6db0",
   "metadata": {},
   "source": [
    "7. An antibiotic resistance test (random variable T) has 1% false positives (i.e., 1% of those who are not immune to an antibiotic display a positive result in the test) and 5% false negatives (i.e., 1% of those who are not resistant to an antibiotic show a positive result in the test) (i.e. 5 percent of those actually resistant to an antibiotic test negative). Assume that 2% of those who were screened were antibiotic-resistant. Calculate the likelihood that a person who tests positive is actually immune (random variable D) ?"
   ]
  },
  {
   "cell_type": "markdown",
   "id": "00da2bd0",
   "metadata": {},
   "source": [
    "Given,\n",
    "\n",
    "P(Antibiotic resistant) = 0.02\n",
    "\n",
    "P(Not antibiotic resistant) = 0.98\n",
    "\n",
    "P(Test resulted positive| Not Antibiotic resistant) = 0.01\n",
    "\n",
    "P(Test resulted negative| Antibiotic resistant) = 0.05\n",
    "\n",
    "For P(Antibiotic resistant| Test resulted positive)\n",
    "\n",
    "P(Test resulted positive| Antibiotic resistant)P(Antibiotic resistant)/(P(Test resulted positive| Antibiotic resistant)P(Antibiotic resistant)+P(Test resulted positive| Not Antibiotic resistant)P(Not antibiotic resistant))\n",
    "\n",
    "(1-0.05)0.02/((1-0.05)0.02 + 0.01*0.98)\n",
    "\n",
    "which comes out to be 0.6597"
   ]
  },
  {
   "cell_type": "markdown",
   "id": "33c61509",
   "metadata": {},
   "source": [
    "8. In order to prepare for the test, a student knows that there will be one question in the exam that is either form A, B, or C. The chances of getting an A, B, or C on the exam are 30 percent, 20%, and 50 percent, respectively. During the planning, the student solved 9 of 10 type A problems, 2 of 10 type B problems, and 6 of 10 type C problems.\n",
    "What is the likelihood that the student can solve the exam problem?\n",
    "Given the student's solution, what is the likelihood that the problem was of form A?"
   ]
  },
  {
   "cell_type": "markdown",
   "id": "40138261",
   "metadata": {},
   "source": [
    "Ans:\n",
    "What is the likelihood that the student can solve the exam problem?\n",
    "Given,\n",
    "\n",
    "P(A) = 0.3\n",
    "\n",
    "P(B) = 0.2\n",
    "\n",
    "P(C) = 0.5\n",
    "\n",
    "P(Student solved| problem A) = 0.9\n",
    "\n",
    "P(Student solved| problem B) = 0.2\n",
    "\n",
    "P(Student solved| problem C) = 0.6\n",
    "\n",
    "For P(Student solved problem),\n",
    "\n",
    "P(Student solved| problem A)P(A)+P(Student solved| problem B)P(B)+P(Student solved| problem C)P(C)\n",
    "\n",
    "0.90.3+0.20.2+0.6*0.5\n",
    "\n",
    "which comes out as 0.61\n",
    "\n",
    "Given the student's solution, what is the likelihood that the problem was of form A?\n",
    "For, P(Problem was A| given it was solved)\n",
    "\n",
    "P(Student solved| problem A)P(A)/(P(Student solved problem))\n",
    "\n",
    "0.9*0.3/(0.61)\n",
    "\n",
    "which is 0.427"
   ]
  },
  {
   "cell_type": "markdown",
   "id": "47a0901a",
   "metadata": {},
   "source": [
    "9. A bank installs a CCTV system to track and photograph incoming customers. Despite the constant influx of customers, we divide the timeline into 5 minute bins. There may be a customer coming into the bank with a 5% chance in each 5-minute time period, or there may be no customer (again, for simplicity, we assume that either there is 1 customer or none, not the case of multiple customers). If there is a client, the CCTV will detect them with a 99 percent probability. If there is no customer, the camera can take a false photograph with a 10% chance of detecting movement from other objects.\n",
    "How many customers come into the bank on a daily basis (10 hours)?\n",
    "On a daily basis, how many fake photographs (photographs taken when there is no customer) and how many missed photographs (photographs taken when there is a customer) are there?\n",
    "Explain likelihood that there is a customer if there is a photograph?"
   ]
  },
  {
   "cell_type": "markdown",
   "id": "901f7368",
   "metadata": {},
   "source": [
    "How many customers come into the bank on a daily basis (10 hours)?\n",
    "Given,\n",
    "\n",
    "P(Customer coming into the bank in each 5-minute time period) = 0.05 Since each hour has 12 5-minute time period, then there will be a total of 10*12 = 120 5-min time periods per day.\n",
    "\n",
    "Therefore, 120*0.05 = 6 customers can come into the bank on a daily basis.\n",
    "\n",
    "On a daily basis, how many fake photographs (photographs taken when there is no customer) and how many missed photographs (photographs taken when there is a customer) are there?\n",
    "Given,\n",
    "\n",
    "P(If there is no customer, the camera takes a false photograph) = 0.1\n",
    "\n",
    "P(If there is a client, the CCTV will detect them) = 0.99\n",
    "\n",
    "For fake photographs,\n",
    "\n",
    "(120 - 6)*0.1 = 11.4 or 11 fake photographs.\n",
    "\n",
    "For missed photographs,\n",
    "\n",
    "6*0.1 = 0.6 or 60% of the times.\n",
    "\n",
    "Explain likelihood that there is a customer if there is a photograph?\n",
    "Given,\n",
    "\n",
    "P(If there is a client, the CCTV will detect them) = 0.99\n",
    "\n",
    "P(Customer) = 0.05\n",
    "\n",
    "For, P(Customer is there| Photo is taken)\n",
    "\n",
    "0.990.05/((0.990.5)+0.1(1-0.05))\n",
    "\n",
    "which is 0.34"
   ]
  },
  {
   "cell_type": "markdown",
   "id": "8d765e56",
   "metadata": {},
   "source": [
    "10. Create the conditional probability table associated with the node Won Toss in the Bayesian Belief network to represent the conditional independence assumptions of the Nave Bayes classifier for the match winning prediction problem in Section 6.4.4."
   ]
  },
  {
   "cell_type": "markdown",
   "id": "625efade",
   "metadata": {},
   "source": [
    "Won Toss Match Won Probability\n",
    "Heads Win 0.6\n",
    "Heads Lose 0.4\n",
    "Tails Win 0.3\n",
    "Tails Lose 0.7"
   ]
  },
  {
   "cell_type": "markdown",
   "id": "17ee2df9",
   "metadata": {},
   "source": []
  }
 ],
 "metadata": {
  "kernelspec": {
   "display_name": "Python 3 (ipykernel)",
   "language": "python",
   "name": "python3"
  },
  "language_info": {
   "codemirror_mode": {
    "name": "ipython",
    "version": 3
   },
   "file_extension": ".py",
   "mimetype": "text/x-python",
   "name": "python",
   "nbconvert_exporter": "python",
   "pygments_lexer": "ipython3",
   "version": "3.9.12"
  }
 },
 "nbformat": 4,
 "nbformat_minor": 5
}
