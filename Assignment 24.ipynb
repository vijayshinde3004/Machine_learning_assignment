{
 "cells": [
  {
   "cell_type": "markdown",
   "id": "216924ab",
   "metadata": {},
   "source": [
    "# Assignment 24"
   ]
  },
  {
   "cell_type": "markdown",
   "id": "99c1291e",
   "metadata": {},
   "source": [
    "1. What is your definition of clustering? What are a few clustering algorithms you might think of ?"
   ]
  },
  {
   "cell_type": "markdown",
   "id": "18fba681",
   "metadata": {},
   "source": [
    "Clustering is the task of dividing the population or data points into a number of groups such that data points in the same groups are more similar to other data points in the same group and dissimilar to the data points in other groups."
   ]
  },
  {
   "cell_type": "markdown",
   "id": "d5dbb324",
   "metadata": {},
   "source": [
    "2. What are some of the most popular clustering algorithm applications ?"
   ]
  },
  {
   "cell_type": "markdown",
   "id": "713f8362",
   "metadata": {},
   "source": [
    "K-means clustering is the most commonly used clustering algorithm. It's a centroid-based algorithm and the simplest unsupervised learning algorithm. This algorithm tries to minimize the variance of data points within a cluster. It's also how most people are introduced to unsupervised machine learning."
   ]
  },
  {
   "cell_type": "markdown",
   "id": "03cbb1cb",
   "metadata": {},
   "source": [
    "3. When using K-Means, describe two strategies for selecting the appropriate number of clusters ?"
   ]
  },
  {
   "cell_type": "markdown",
   "id": "960e98ec",
   "metadata": {},
   "source": [
    "K-means clustering algorithm can be significantly improved by using a better initialization technique, and by repeating (re-starting) the algorithm. When the data has overlapping clusters, k-means can improve the results of the initialization technique."
   ]
  },
  {
   "cell_type": "markdown",
   "id": "328c0f1e",
   "metadata": {},
   "source": [
    "4. What is mark propagation and how does it work? Why would you do it, and how would you do it ?"
   ]
  },
  {
   "cell_type": "markdown",
   "id": "dad4284b",
   "metadata": {},
   "source": [
    "Backpropagation (backward propagation) is an important mathematical tool for improving the accuracy of predictions in data mining and machine learning. Essentially, backpropagation is an algorithm used to calculate derivatives quickly.\n",
    "\n",
    "The backpropagation algorithm works by computing the gradient of the loss function with respect to each weight by the chain rule, computing the gradient one layer at a time, iterating backward from the last layer to avoid redundant calculations of intermediate terms in the chain rule"
   ]
  },
  {
   "cell_type": "markdown",
   "id": "f1cd5105",
   "metadata": {},
   "source": [
    "5. Provide two examples of clustering algorithms that can handle large datasets. And two that look for high-density areas ?"
   ]
  },
  {
   "cell_type": "markdown",
   "id": "da544bd2",
   "metadata": {},
   "source": [
    "The most commonly used algorithm in clustering are partitioning, hierarchical, grid based, density based, and model based algorithms. A review of clustering and its different techniques in data mining is done considering the criteria's for big data."
   ]
  },
  {
   "cell_type": "markdown",
   "id": "17de8d2c",
   "metadata": {},
   "source": [
    "6. Can you think of a scenario in which constructive learning will be advantageous? How can you go about putting it into action ?"
   ]
  },
  {
   "cell_type": "markdown",
   "id": "7c2d11c8",
   "metadata": {},
   "source": [
    "In Constructivist learning, the traditional classroom learning procedure is flipped. Instead of a teacher informing a child about a subject and constructing a meaning for them, in constructivist learning, children construct their own meanings. Now, this may not be the best approach for every learning environment, but it can be tremendously helpful at home.\n",
    "\n",
    "The home environment is where children primarily develop a sense of self and is the perfect setting for children to practice taking initiative in their learning via a Constructivist approach."
   ]
  },
  {
   "cell_type": "markdown",
   "id": "f919e19d",
   "metadata": {},
   "source": [
    "7. How do you tell the difference between anomaly and novelty detection?"
   ]
  },
  {
   "cell_type": "markdown",
   "id": "9545de8d",
   "metadata": {},
   "source": [
    "In \"novelty detection\", you have a data set that contains only good data, and you're trying to determine whether new observations fit within the existing data set. In \"outlier detection\", the data may contain outliers, which you want to identify."
   ]
  },
  {
   "cell_type": "markdown",
   "id": "d80eedf6",
   "metadata": {},
   "source": [
    "8. What is a Gaussian mixture, and how does it work? What are some of the things you can do about it?"
   ]
  },
  {
   "cell_type": "markdown",
   "id": "9f52e935",
   "metadata": {},
   "source": [
    "A Gaussian Mixture is a function that is comprised of several Gaussians, each identified by k ∈ {1,…, K}, where K is the number of clusters of our dataset. Each Gaussian k in the mixture is comprised of the following parameters: A mean μ that defines its centre. A covariance Σ that defines its width."
   ]
  },
  {
   "cell_type": "markdown",
   "id": "b6a9b49b",
   "metadata": {},
   "source": [
    "9. When using a Gaussian mixture model, can you name two techniques for determining the correct number of clusters?"
   ]
  },
  {
   "cell_type": "markdown",
   "id": "1acc7b45",
   "metadata": {},
   "source": [
    "An approach is to find the clusters using soft clustering methods and then see if they are gaussian. If they are then you can apply a GMM model which represents the whole dataset."
   ]
  }
 ],
 "metadata": {
  "kernelspec": {
   "display_name": "Python 3 (ipykernel)",
   "language": "python",
   "name": "python3"
  },
  "language_info": {
   "codemirror_mode": {
    "name": "ipython",
    "version": 3
   },
   "file_extension": ".py",
   "mimetype": "text/x-python",
   "name": "python",
   "nbconvert_exporter": "python",
   "pygments_lexer": "ipython3",
   "version": "3.9.12"
  }
 },
 "nbformat": 4,
 "nbformat_minor": 5
}
