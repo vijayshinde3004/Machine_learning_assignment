{
 "cells": [
  {
   "cell_type": "markdown",
   "id": "1099b35a",
   "metadata": {},
   "source": [
    "# Assignment 21\n"
   ]
  },
  {
   "cell_type": "markdown",
   "id": "e15fa28d",
   "metadata": {},
   "source": [
    "1. What is the estimated depth of a Decision Tree trained (unrestricted) on a one million instance training set ?"
   ]
  },
  {
   "cell_type": "markdown",
   "id": "f25315cb",
   "metadata": {},
   "source": [
    "The depth of a well-balanced binary tree containing m leaves is equal to log2(m)³, rounded up. A binary Decision Tree (one that makes only binary decisions, as is the case of all trees in Scikit-Learn) will end up more or less well balanced at the end of training, with one leaf per training instance if it is trained without restrictions. Thus, if the training set contains one million instances, the Decision Tree will have a depth of log2(10⁶) ≈ 20 (actually a bit more since the tree will generally not be perfectly well balanced)."
   ]
  },
  {
   "cell_type": "markdown",
   "id": "aef5e09f",
   "metadata": {},
   "source": [
    "2. Is the Gini impurity of a node usually lower or higher than that of its parent? Is it always lower/greater, or is it usually lower/greater ?"
   ]
  },
  {
   "cell_type": "markdown",
   "id": "cfbb2172",
   "metadata": {},
   "source": [
    "A node’s Gini impurity is generally lower than its parent’s. This is ensured by the CART training algorithm’s cost function, which splits each node in a way that minimizes the weighted sum of its children’s Gini impurities. However, if one child is smaller than the other, it is possible for it to have a higher Gini impurity than its parent, as long as this increase is more than compensated for by a decrease of the other child’s impurity. For example, consider a node containing four instances of class A and 1 of class B. Its Gini impurity is 1 − (1/5)² − (4/5)² = 0.32. Now suppose the dataset is one-dimensional and the instances are lined up in the following order: A, B, A, A, A. You can verify that the algorithm will split this node after the second instance, producing one child node with instances A, B, and the other child node with instances A, A, A. The first child node’s Gini impurity is 1 − (1/2)²− (1/2)² = 0.5, which is higher than its parent. This is compensated for by the fact that the other node is pure, so the overall weighted Gini impurity is 2/5 × 0.5 + 3/5 × 0 = 0.2, which is lower than the parent’s Gini impurity."
   ]
  },
  {
   "cell_type": "markdown",
   "id": "0a5f1bdf",
   "metadata": {},
   "source": [
    "3. Explain if its a good idea to reduce max depth if a Decision Tree is overfitting the training set ?"
   ]
  },
  {
   "cell_type": "markdown",
   "id": "5737fc73",
   "metadata": {},
   "source": [
    "If a Decision Tree is overfitting the training set, it may be a good idea to decrease max depth, since this will constrain the model, regularizing it."
   ]
  },
  {
   "cell_type": "markdown",
   "id": "14ba7c31",
   "metadata": {},
   "source": [
    "4. Explain if its a good idea to try scaling the input features if a Decision Tree underfits the training set ?"
   ]
  },
  {
   "cell_type": "markdown",
   "id": "cb18f705",
   "metadata": {},
   "source": [
    "Decision Trees don’t care whether or not the training data is scaled or centered; that’s one of the nice things about them. So if a Decision Tree underfits the training set, scaling the input features will just be a waste of time."
   ]
  },
  {
   "cell_type": "markdown",
   "id": "f04e7db2",
   "metadata": {},
   "source": [
    "5. How much time will it take to train another Decision Tree on a training set of 10 million instances if it takes an hour to train a Decision Tree on a training set with 1 million instances ?"
   ]
  },
  {
   "cell_type": "markdown",
   "id": "66ed6258",
   "metadata": {},
   "source": [
    "The computational complexity of training a Decision Tree is O(n × m log(m)). So if you multiply the training set size by 10, the training time will be multiplied by K = (n × 10m × log(10m)) / (n × m × log(m)) = 10 × log(10m) / log(m). If m = 10⁶, then K ≈ 11.7, so you can expect the training time to be roughly 11.7 hours."
   ]
  },
  {
   "cell_type": "markdown",
   "id": "f40b7814",
   "metadata": {},
   "source": [
    "6. Will setting presort=True speed up training if your training set has 100,000 instances ?"
   ]
  },
  {
   "cell_type": "markdown",
   "id": "c823506b",
   "metadata": {},
   "source": [
    "Presorting the training set speeds up training only if the dataset is smaller than a few thousand instances. If it contains 100,000 instances, setting presort=True will considerably slow down the training."
   ]
  },
  {
   "cell_type": "markdown",
   "id": "ee9614ec",
   "metadata": {},
   "source": [
    "7. Follow these steps to train and fine-tune a Decision Tree for the moons dataset:"
   ]
  },
  {
   "cell_type": "markdown",
   "id": "aa044a08",
   "metadata": {},
   "source": [
    "a. To build a moons dataset, use make moons(n samples=10000, noise=0.4).\n",
    "\n",
    "b. Divide the dataset into a training and a test collection with train test split().\n",
    "\n",
    "c. To find good hyperparameters values for a DecisionTreeClassifier, use grid search with cross- validation (with the GridSearchCV class). Try different values for max leaf nodes.\n",
    "\n",
    "d. Use these hyperparameters to train the model on the entire training set, and then assess its output on the test set. You can achieve an accuracy of 85 to 87 percent."
   ]
  },
  {
   "cell_type": "markdown",
   "id": "f15d4ef5",
   "metadata": {},
   "source": [
    "8. Follow these steps to grow a forest:"
   ]
  },
  {
   "cell_type": "markdown",
   "id": "9bdd3bfc",
   "metadata": {},
   "source": [
    "a. Using the same method as before, create 1,000 subsets of the training set, each containing 100 instances chosen at random. You can do this with Scikit-ShuffleSplit Learn's class.\n",
    "\n",
    "b. Using the best hyperparameter values found in the previous exercise, train one Decision Tree on each subset. On the test collection, evaluate these 1,000 Decision Trees. These Decision\n",
    "\n",
    "Trees would likely perform worse than the first Decision Tree, achieving only around 80% accuracy, since they were trained on smaller sets.\n",
    "\n",
    "c. Now the magic begins. Create 1,000 Decision Tree predictions for each test set case, and keep only the most common prediction (you can do this with SciPy's mode() function). Over the test collection, this method gives you majority-vote predictions.\n",
    "\n",
    "d. On the test range, evaluate these predictions: you should achieve a slightly higher accuracy than the first model (approx 0.5 to 1.5 percent higher). You've successfully learned a Random Forest classifier!"
   ]
  },
  {
   "cell_type": "code",
   "execution_count": null,
   "id": "a4efcefa",
   "metadata": {},
   "outputs": [],
   "source": []
  }
 ],
 "metadata": {
  "kernelspec": {
   "display_name": "Python 3 (ipykernel)",
   "language": "python",
   "name": "python3"
  },
  "language_info": {
   "codemirror_mode": {
    "name": "ipython",
    "version": 3
   },
   "file_extension": ".py",
   "mimetype": "text/x-python",
   "name": "python",
   "nbconvert_exporter": "python",
   "pygments_lexer": "ipython3",
   "version": "3.9.12"
  }
 },
 "nbformat": 4,
 "nbformat_minor": 5
}
