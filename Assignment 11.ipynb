{
 "cells": [
  {
   "cell_type": "markdown",
   "id": "e176c6e6",
   "metadata": {},
   "source": [
    "# Assignment 11\n"
   ]
  },
  {
   "cell_type": "markdown",
   "id": "7aa67bea",
   "metadata": {},
   "source": [
    "Given X be a discrete random variable with the following PMF\n",
    "\n",
    " \n",
    "1. Find the range RX of the random variable X.\n",
    "2. Find P(X ≤ 0.5)\n",
    "3. Find P(0.25 < X < .75)\n",
    "4. P(X = 0.2|X < 0.6)"
   ]
  },
  {
   "cell_type": "markdown",
   "id": "a4061bbd",
   "metadata": {},
   "source": []
  },
  {
   "cell_type": "markdown",
   "id": "b805dbcb",
   "metadata": {},
   "source": [
    "2 : Two equal and fair dice are rolled, and we observed two numbers X and Y.\n",
    "\n",
    "\n",
    "1. Find RX, RY, and the PMFs of X and Y.\n",
    "2. Find P(X = 2,Y = 6).\n",
    "3. Find P(X>3|Y = 2).\n",
    "4. If Z = X + Y. Find the range and PMF of Z.\n",
    "5. Find P(X = 4|Z = 8)"
   ]
  },
  {
   "cell_type": "markdown",
   "id": "3809c3d2",
   "metadata": {},
   "source": [
    " Since two fair dice are rolled, X and Y can take values from 1 to 6 with equal probability.\n",
    "Therefore,\n",
    "\n",
    "RX = RY = {1, 2, 3, 4, 5, 6}.\n",
    "\n",
    "The PMF of X and Y is given by:\n",
    "\n",
    "P(X = k) = P(Y = k) = 1/6 for k = 1, 2, 3, 4, 5, 6\n",
    "\n",
    "P(X = 2,Y = 6) = P(X = 2) * P(Y = 6) = 1/6 * 1/6 = 1/36\n",
    "\n",
    "P(X>3|Y=2) = P(X>3∩Y=2)/P(Y=2) = P(X>3∩Y=2)/P(Y=2∩X≤6)\n",
    "\n",
    "Since X cannot be more than 6\n",
    "\n",
    "P(X>3∩Y=2)/P(Y=2) = P(X>3) * P(Y=2) / P(Y=2) = P(X>3) = 3/6 = 1/2\n",
    "\n",
    "The range of Z is the set of all possible values that Z can take. Since Z = X + Y, the range of Z is the set of all possible sums of values of X and Y. If X and Y are both discrete random variables, then Z is also a discrete random variable, and we can find its probability mass function (PMF) as follows:\n",
    "PMF of Z(z) = P(Z = z) = P(X + Y = z)\n",
    "\n",
    "We can compute the PMF of Z by considering all possible combinations of values of X and Y that add up to z:\n",
    "\n",
    "PMF of Z(z) = Σ P(X = x, Y = z - x)\n",
    "\n",
    "where the sum is taken over all possible values of x such that x + (z - x) = z.\n",
    "\n",
    "Using Bayes' theorem, we have:\n",
    "P(X = 4|Z = 8) = P(X = 4, Y = 4|Z = 8) / P(Z = 8)\n",
    "\n",
    "Since Z = X + Y, we can rewrite the numerator as:\n",
    "\n",
    "P(X = 4, Y = 4|Z = 8) = P(X = 4, Y = 4, X + Y = 8)\n",
    "\n",
    "Since X and Y are independent, we have:\n",
    "\n",
    "P(X = 4, Y = 4, X + Y = 8) = P(X = 4) * P(Y = 4) = e^(-λ) * λ^4 / 4! * e^(-λ) * λ^4 / 4!\n",
    "\n",
    "where λ = α + β. Thus,\n",
    "\n",
    "P(X = 4|Z = 8) = (e^(-λ) * λ^4 / 4! * e^(-λ) * λ^4 / 4!) / P(Z = 8)\n",
    "\n",
    "where P(Z = 8) is given by the PMF of Z that we computed in part (4)."
   ]
  },
  {
   "cell_type": "markdown",
   "id": "3604fea4",
   "metadata": {},
   "source": [
    " 3 : In an exam, there were 20 multiple-choice questions. Each question had 44 possible options. A student knew the answer to 10 questions, but the other 10 questions were unknown to him, and he chose answers randomly. If the student X's score is equal to the total number of correct answers, then find out the PMF of X. What is \n",
    "?"
   ]
  },
  {
   "cell_type": "markdown",
   "id": "ea0dee63",
   "metadata": {},
   "source": [
    "Let X be the number of correct answers. Since the student knew the answer to 10 questions, X has a binomial distribution with parameters n=20 and p=10/44, where n is the number of trials (number of questions) and p is the probability of success (getting the correct answer).\n",
    "The PMF of X is given by:\n",
    "\n",
    "P(X=k) = (n choose k) * p^k * (1-p)^(n-k)\n",
    "\n",
    "where (n choose k) is the binomial coefficient which represents the number of ways to choose k correct answers out of n questions.\n",
    "\n",
    "For k = 0 to 10, P(X=k) = 0 because the student knew the answer to 10 questions.\n",
    "\n",
    "For k = 11 to 20, \n",
    "\n",
    "To find P(X>15), we can sum the probabilities for k = 16 to 20:\n",
    "    P(X>15) = P(X=16) + P(X=17) + P(X=18) + P(X=19) + P(X=20) = {20 \\choose 16} * (10/44)^{16} * (34/44)^4 + {20 \\choose 17} * (10/44)^{17} * (34/44)^3 + {20 \\choose 18} * (10/44)^{18}"
   ]
  },
  {
   "cell_type": "markdown",
   "id": "db986b06",
   "metadata": {},
   "source": [
    " 4 : The number of students arriving at a college between a time interval is a Poisson random variable. On average, 10 students arrive per hour. Let Y be the number of students arriving from 10 am to 11:30 am. What is P(10 < Y ≤ 15)?"
   ]
  },
  {
   "cell_type": "markdown",
   "id": "127c3c7f",
   "metadata": {},
   "source": []
  },
  {
   "cell_type": "markdown",
   "id": "8c9bc5cf",
   "metadata": {},
   "source": [
    "5 : Two independent random variables, X and Y,are given such that \n",
    " and \n",
    ".\n",
    "State a new random variable as Z = X + Y.\n",
    "\n",
    "Find out the PMF of Z."
   ]
  },
  {
   "cell_type": "code",
   "execution_count": null,
   "id": "fb7b3782",
   "metadata": {},
   "outputs": [],
   "source": []
  }
 ],
 "metadata": {
  "kernelspec": {
   "display_name": "Python 3 (ipykernel)",
   "language": "python",
   "name": "python3"
  },
  "language_info": {
   "codemirror_mode": {
    "name": "ipython",
    "version": 3
   },
   "file_extension": ".py",
   "mimetype": "text/x-python",
   "name": "python",
   "nbconvert_exporter": "python",
   "pygments_lexer": "ipython3",
   "version": "3.9.12"
  }
 },
 "nbformat": 4,
 "nbformat_minor": 5
}
