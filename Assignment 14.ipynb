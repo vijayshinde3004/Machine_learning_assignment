{
 "cells": [
  {
   "cell_type": "markdown",
   "id": "882d56c1",
   "metadata": {},
   "source": [
    "# Assignment 14"
   ]
  },
  {
   "cell_type": "markdown",
   "id": "6ee99f36",
   "metadata": {},
   "source": [
    "1. What is the concept of supervised learning? What is the significance of the name ?"
   ]
  },
  {
   "cell_type": "markdown",
   "id": "ec30381f",
   "metadata": {},
   "source": [
    "Ans: Supervised learning, also known as supervised machine learning, is a subcategory of machine learning and artificial intelligence. It is defined by its use of labeled datasets to train algorithms that to classify data or predict outcomes accurately."
   ]
  },
  {
   "cell_type": "markdown",
   "id": "aba605fa",
   "metadata": {},
   "source": [
    "2. In the hospital sector, offer an example of supervised learning ?"
   ]
  },
  {
   "cell_type": "markdown",
   "id": "412af9a8",
   "metadata": {},
   "source": [
    "Ans: Supervised learning uses a training set to teach models to yield the desired output. This training dataset includes inputs and correct outputs, which allow the model to learn over time. The algorithm measures its accuracy through the loss function, adjusting until the error has been sufficiently minimized."
   ]
  },
  {
   "cell_type": "markdown",
   "id": "7e24afa3",
   "metadata": {},
   "source": [
    "3. Give three supervised learning examples ?"
   ]
  },
  {
   "cell_type": "markdown",
   "id": "78b53358",
   "metadata": {},
   "source": [
    " Example of Supervised Learning Algorithms are:\n",
    "\n",
    "Linear Regression.\n",
    "Nearest Neighbor.\n",
    "Gaussian Naive Bayes.\n",
    "Decision Trees.\n",
    "Support Vector Machine (SVM)\n",
    "Random Forest."
   ]
  },
  {
   "cell_type": "markdown",
   "id": "23768261",
   "metadata": {},
   "source": [
    "4. In supervised learning, what are classification and regression ?"
   ]
  },
  {
   "cell_type": "markdown",
   "id": "14ee50f6",
   "metadata": {},
   "source": [
    "Fundamentally, classification is about predicting a label and regression is about predicting a quantity. That classification is the problem of predicting a discrete class label output for an example. That regression is the problem of predicting a continuous quantity output for an example."
   ]
  },
  {
   "cell_type": "markdown",
   "id": "261019f1",
   "metadata": {},
   "source": [
    "5. Give some popular classification algorithms as examples ?"
   ]
  },
  {
   "cell_type": "markdown",
   "id": "aeaaf8c6",
   "metadata": {},
   "source": [
    "Popular algorithms that can be used for multi-class classification include:\n",
    "\n",
    "k-Nearest Neighbors\n",
    "Decision Trees.\n",
    "Naive Bayes"
   ]
  },
  {
   "cell_type": "markdown",
   "id": "68feb0bf",
   "metadata": {},
   "source": [
    "6. Briefly describe the SVM model ?"
   ]
  },
  {
   "cell_type": "markdown",
   "id": "10dbe964",
   "metadata": {},
   "source": [
    "A support vector machine (SVM) is a supervised machine learning model that uses classification algorithms for two-group classification problems. After giving an SVM model sets of labeled training data for each category, they're able to categorize new text."
   ]
  },
  {
   "cell_type": "markdown",
   "id": "efcfbcc8",
   "metadata": {},
   "source": [
    "7. In SVM, what is the cost of misclassification ?"
   ]
  },
  {
   "cell_type": "markdown",
   "id": "51359673",
   "metadata": {},
   "source": [
    " In cost-sensitive learning instead of each instance being either correctly or incorrectly classified, each class (or instance) is given a misclassification cost. Thus, instead of trying to optimize the accuracy, the problem is then to minimize the total misclassification cost."
   ]
  },
  {
   "cell_type": "markdown",
   "id": "a3969159",
   "metadata": {},
   "source": [
    "8. In the SVM model, define Support Vectors ?"
   ]
  },
  {
   "cell_type": "markdown",
   "id": "e31abcf4",
   "metadata": {},
   "source": [
    "Support vectors are data points that are closer to the hyperplane and influence the position and orientation of the hyperplane. Using these support vectors, we maximize the margin of the classifier. Deleting the support vectors will change the position of the hyperplane. These are the points that help us build our SVM."
   ]
  },
  {
   "cell_type": "markdown",
   "id": "168b2237",
   "metadata": {},
   "source": [
    "9. In the SVM model, define the kernel ?"
   ]
  },
  {
   "cell_type": "markdown",
   "id": "ec108170",
   "metadata": {},
   "source": [
    "SVM algorithms use a set of mathematical functions that are defined as the kernel. The function of kernel is to take data as input and transform it into the required form. These functions can be different types. For example linear, nonlinear, polynomial, radial basis function (RBF), and sigmoid.\n",
    "\n"
   ]
  },
  {
   "cell_type": "markdown",
   "id": "6c858c8e",
   "metadata": {},
   "source": [
    "10. What are the factors that influence SVM's effectiveness ?"
   ]
  },
  {
   "cell_type": "markdown",
   "id": "5a24c98d",
   "metadata": {},
   "source": [
    "SVM or Support Vector Machine is a linear model for classification and regression problems. It can solve linear and non-linear problems and work well for many practical problems. The idea of SVM is simple: The algorithm creates a line or a hyperplane which separates the data into classe"
   ]
  },
  {
   "cell_type": "markdown",
   "id": "2e8362f5",
   "metadata": {},
   "source": [
    "11. What are the benefits of using the SVM model ?"
   ]
  },
  {
   "cell_type": "markdown",
   "id": "f35bcae0",
   "metadata": {},
   "source": [
    "SVM works relatively well when there is a clear margin of separation between classes. SVM is more effective in high dimensional spaces. SVM is effective in cases where the number of dimensions is greater than the number of samples.SVM is relatively memory efficient."
   ]
  },
  {
   "cell_type": "markdown",
   "id": "22673c35",
   "metadata": {},
   "source": [
    "12. What are the drawbacks of using the SVM model ?"
   ]
  },
  {
   "cell_type": "markdown",
   "id": "12195a0a",
   "metadata": {},
   "source": [
    "SVM algorithm is not suitable for large data sets. SVM does not perform very well when the data set has more noise i.e. target classes are overlapping. In cases where the number of features for each data point exceeds the number of training data samples, the SVM will underperform."
   ]
  },
  {
   "cell_type": "markdown",
   "id": "f9db7318",
   "metadata": {},
   "source": [
    "13. Notes should be written on\n",
    "The kNN algorithm has a validation flaw.\n",
    "In the kNN algorithm, the k value is chosen.\n",
    "A decision tree with inductive bias"
   ]
  },
  {
   "cell_type": "markdown",
   "id": "57a5aa58",
   "metadata": {},
   "source": [
    "The Short notes on below topics is:\n",
    "\n",
    "The kNN algorithm has a validation flaw.\n",
    "The relatively low accuracy of kNN is caused by several factors. One of them is that every characteristic of the method has the same result on calculating distance. The solution of this problem is to give weight to each data characteristic.\n",
    "\n",
    "In the kNN algorithm, the k value is chosen.\n",
    "The optimal K value usually found is the square root of N, where N is the total number of samples. Use an error plot or accuracy plot to find the most favorable K value. KNN performs well with multi-label classes, but you must be aware of the outliers.\n",
    "\n",
    "A decision tree with inductive bias\n",
    "Shorter trees are preferred over longer ones. Trees that place high information gain attributes close to the root are preferred over those that do not."
   ]
  },
  {
   "cell_type": "markdown",
   "id": "32898b0f",
   "metadata": {},
   "source": [
    "14. What are some of the benefits of the kNN algorithm ?"
   ]
  },
  {
   "cell_type": "markdown",
   "id": "0e8e02e9",
   "metadata": {},
   "source": [
    " Some Advantages of KNN are:\n",
    "\n",
    "Quick calculation time.\n",
    "Simple algorithm – to interpret.\n",
    "Versatile – useful for regression and classification.\n",
    "High accuracy – you do not need to compare with better-supervised learning models."
   ]
  },
  {
   "cell_type": "markdown",
   "id": "03fadd8a",
   "metadata": {},
   "source": [
    "15. What are some of the kNN algorithm's drawbacks ?"
   ]
  },
  {
   "cell_type": "markdown",
   "id": "ae2b060f",
   "metadata": {},
   "source": [
    "Some Disadvantages of KNN are:\n",
    "\n",
    "Accuracy depends on the quality of the data.\n",
    "With large data, the prediction stage might be slow.\n",
    "Sensitive to the scale of the data and irrelevant features.\n",
    "Require high memory – need to store all of the training data.\n",
    "Given that it stores all of the training, it can be computationally expensive."
   ]
  },
  {
   "cell_type": "markdown",
   "id": "90aa696e",
   "metadata": {},
   "source": [
    "16. Explain the decision tree algorithm in a few words ?\n"
   ]
  },
  {
   "cell_type": "markdown",
   "id": "b4167eb0",
   "metadata": {},
   "source": [
    "A decision tree is a graphical representation of all the possible solutions to a decision based on certain conditions. Tree models where the target variable can take a finite set of values are called classification trees and target variable can take continuous values (numbers) are called regression trees."
   ]
  },
  {
   "cell_type": "markdown",
   "id": "890b5f81",
   "metadata": {},
   "source": [
    "17. What is the difference between a node and a leaf in a decision tree ?"
   ]
  },
  {
   "cell_type": "markdown",
   "id": "40758c6c",
   "metadata": {},
   "source": [
    "A decision tree is a flowchart-like structure in which each internal node represents a \"test\" on an attribute (e.g. whether a coin flip comes up heads or tails), each branch represents the outcome of the test, and each leaf node represents a class label (decision taken after computing all attributes)."
   ]
  },
  {
   "cell_type": "markdown",
   "id": "34b7577e",
   "metadata": {},
   "source": [
    "18. What is a decision tree's entropy ?"
   ]
  },
  {
   "cell_type": "markdown",
   "id": "6022063f",
   "metadata": {},
   "source": [
    "Entropy helps us to build an appropriate decision tree for selecting the best splitter. Entropy can be defined as a measure of the purity of the sub split. Entropy always lies between 0 to 1. The entropy of any split can be calculate by this formula."
   ]
  },
  {
   "cell_type": "markdown",
   "id": "95719231",
   "metadata": {},
   "source": [
    "20. Choose three advantages of the decision tree approach and write them down ?"
   ]
  },
  {
   "cell_type": "markdown",
   "id": "2f1251b4",
   "metadata": {},
   "source": [
    "Advantages of Decision Trees :\n",
    "\n",
    "Easy to read and interpret. One of the advantages of decision trees is that their outputs are easy to read and interpret without requiring statistical knowledge.\n",
    "Easy to prepare.\n",
    "Less data cleaning required."
   ]
  },
  {
   "cell_type": "markdown",
   "id": "abda5e10",
   "metadata": {},
   "source": [
    "21. Make a list of three flaws in the decision tree process ?"
   ]
  },
  {
   "cell_type": "markdown",
   "id": "3bbafaef",
   "metadata": {},
   "source": [
    "Issues in Decision Tree Learning :\n",
    "\n",
    "Overfitting the data.\n",
    "Guarding against bad attribute choices.\n",
    "Handling continuous valued attributes.\n",
    "Handling missing attribute values.\n",
    "Handling attributes with differing costs."
   ]
  },
  {
   "cell_type": "markdown",
   "id": "458b4aaa",
   "metadata": {},
   "source": [
    "22. Briefly describe the random forest model ?"
   ]
  },
  {
   "cell_type": "markdown",
   "id": "264f7fac",
   "metadata": {},
   "source": [
    "The random forest is a classification algorithm consisting of many decisions trees. It uses bagging and feature randomness when building each individual tree to try to create an uncorrelated forest of trees whose prediction by committee is more accurate than that of any individual tree."
   ]
  }
 ],
 "metadata": {
  "kernelspec": {
   "display_name": "Python 3 (ipykernel)",
   "language": "python",
   "name": "python3"
  },
  "language_info": {
   "codemirror_mode": {
    "name": "ipython",
    "version": 3
   },
   "file_extension": ".py",
   "mimetype": "text/x-python",
   "name": "python",
   "nbconvert_exporter": "python",
   "pygments_lexer": "ipython3",
   "version": "3.9.12"
  }
 },
 "nbformat": 4,
 "nbformat_minor": 5
}
